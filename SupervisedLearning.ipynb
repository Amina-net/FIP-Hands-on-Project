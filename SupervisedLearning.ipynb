{
  "nbformat": 4,
  "nbformat_minor": 0,
  "metadata": {
    "colab": {
      "provenance": []
    },
    "kernelspec": {
      "name": "python3",
      "display_name": "Python 3"
    },
    "language_info": {
      "name": "python"
    }
  },
  "cells": [
    {
      "cell_type": "code",
      "source": [
        "from google.colab import files\n",
        "\n",
        "uploaded = files.upload()\n"
      ],
      "metadata": {
        "id": "EWD_Z2RzL_nH"
      },
      "execution_count": null,
      "outputs": []
    },
    {
      "cell_type": "code",
      "execution_count": null,
      "metadata": {
        "id": "Liv3h89sLNI0"
      },
      "outputs": [],
      "source": [
        "import pandas as pd\n",
        "from sklearn.model_selection import train_test_split\n",
        "from sklearn.ensemble import RandomForestClassifier\n",
        "from sklearn.metrics import accuracy_score, classification_report\n",
        "\n",
        "df = pd.read_csv(\"StudentsPerformance.csv\")\n",
        "\n",
        "# create a new column to calculate average score\n",
        "df['average_score'] = df[['math score', 'reading score', 'writing score']].mean(axis=1)\n",
        "\n",
        "# convert average score to grades\n",
        "def convert_to_grade(score):\n",
        "    if score >= 70:\n",
        "        return 'A'\n",
        "    elif score >= 60:\n",
        "        return 'B'\n",
        "    elif score >= 50:\n",
        "        return 'C'\n",
        "    elif score >= 45:\n",
        "        return 'D'\n",
        "    elif score >= 40:\n",
        "        return 'E'\n",
        "    else:\n",
        "        return 'F'\n",
        "\n",
        "df['grade'] = df['average_score'].apply(convert_to_grade)\n",
        "\n",
        "# create new columns to calculate range of scores and check for any failed subject.\n",
        "df['score_range'] = df[['math score', 'reading score', 'writing score']].max(axis=1) - df[['math score', 'reading score', 'writing score']].min(axis=1)\n",
        "df['has_failed_subject'] = ((df[['math score', 'reading score', 'writing score']] < 40).any(axis=1)).astype(int)\n",
        "\n",
        "# drop 'average_score' column to avoid clash with grades\n",
        "df.drop(['average_score'], axis=1, inplace=True)\n",
        "\n",
        "# identify target features\n",
        "X = df.drop('grade', axis=1)\n",
        "y = df['grade']\n",
        "\n",
        "# convert categorcal text columns to binary\n",
        "X = pd.get_dummies(X, drop_first=True)\n"
      ]
    },
    {
      "cell_type": "code",
      "source": [
        "# Train-test split\n",
        "X_train, X_test, y_train, y_test = train_test_split(X, y, test_size=0.2, random_state=42)\n",
        "\n",
        "# Train Random Forest with balanced class weights\n",
        "model = RandomForestClassifier(class_weight='balanced', random_state=42)\n",
        "model.fit(X_train, y_train)\n",
        "\n",
        "# Evaluate model\n",
        "y_pred = model.predict(X_test)\n",
        "print(\"Accuracy:\", accuracy_score(y_test, y_pred))\n",
        "print(\"Classification Report:\\n\", classification_report(y_test, y_pred))"
      ],
      "metadata": {
        "colab": {
          "base_uri": "https://localhost:8080/"
        },
        "id": "Jyp1wunnNC-U",
        "outputId": "f38f59f6-7afb-4175-e735-d9569d26217e"
      },
      "execution_count": null,
      "outputs": [
        {
          "output_type": "stream",
          "name": "stdout",
          "text": [
            "Accuracy: 0.925\n",
            "Classification Report:\n",
            "               precision    recall  f1-score   support\n",
            "\n",
            "           A       0.95      0.98      0.96        90\n",
            "           B       0.95      0.79      0.86        48\n",
            "           C       0.81      1.00      0.90        35\n",
            "           D       1.00      0.79      0.88        14\n",
            "           E       1.00      1.00      1.00         3\n",
            "           F       1.00      1.00      1.00        10\n",
            "\n",
            "    accuracy                           0.93       200\n",
            "   macro avg       0.95      0.93      0.93       200\n",
            "weighted avg       0.93      0.93      0.92       200\n",
            "\n"
          ]
        }
      ]
    },
    {
      "cell_type": "code",
      "source": [
        "# create data for a new student\n",
        "new_student = pd.DataFrame([{\n",
        "    'gender': 'male',\n",
        "    'race/ethnicity': 'group C',\n",
        "    'parental level of education': \"bachelor's degree\",\n",
        "    'lunch': 'standard',\n",
        "    'test preparation course': 'completed',\n",
        "    'math score': 75,\n",
        "    'reading score': 80,\n",
        "    'writing score': 77\n",
        "}])\n",
        "\n",
        "# create range and failed subject columns as done before training\n",
        "new_student['score_range'] = new_student[['math score', 'reading score', 'writing score']].max(axis=1) - new_student[['math score', 'reading score', 'writing score']].min(axis=1)\n",
        "new_student['has_failed_subject'] = ((new_student[['math score', 'reading score', 'writing score']] < 40).any(axis=1)).astype(int)\n",
        "\n",
        "# encode new student\n",
        "new_student_encoded = pd.get_dummies(new_student, drop_first=True)\n",
        "new_student_final = new_student_encoded.reindex(columns=X.columns, fill_value=0)\n",
        "\n",
        "# predict the grade\n",
        "predicted_grade = model.predict(new_student_final)\n",
        "print(\"The Student's Predicted grade is:\", predicted_grade[0])"
      ],
      "metadata": {
        "colab": {
          "base_uri": "https://localhost:8080/"
        },
        "id": "Ksiotno_NFe9",
        "outputId": "0f61c782-22c9-440e-d1b3-00f05aa7d3cd"
      },
      "execution_count": null,
      "outputs": [
        {
          "output_type": "stream",
          "name": "stdout",
          "text": [
            "The Student's Predicted grade is: A\n"
          ]
        }
      ]
    }
  ]
}